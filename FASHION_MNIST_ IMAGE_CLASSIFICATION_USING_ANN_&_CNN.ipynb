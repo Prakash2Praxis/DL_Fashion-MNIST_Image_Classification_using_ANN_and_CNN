{
 "cells": [
  {
   "cell_type": "markdown",
   "metadata": {},
   "source": [
    "# FASHIO_NMNIST_IMAGE_CLASSIFICATION_USING_ANN_&_CNN"
   ]
  },
  {
   "cell_type": "markdown",
   "metadata": {},
   "source": [
    "## Loading the Data "
   ]
  },
  {
   "cell_type": "code",
   "execution_count": 268,
   "metadata": {},
   "outputs": [],
   "source": [
    "import tensorflow as tf \n",
    "import numpy as np\n",
    "import random\n",
    "import matplotlib.pyplot as plt\n",
    "%matplotlib inline\n",
    "import warnings\n",
    "warnings.filterwarnings('ignore')"
   ]
  },
  {
   "cell_type": "code",
   "execution_count": 269,
   "metadata": {},
   "outputs": [],
   "source": [
    "#from keras.datasets let's import fashion_mnist\n",
    "(train_X,train_Y), (test_X,test_Y) = tf.keras.datasets.fashion_mnist.load_data()"
   ]
  },
  {
   "cell_type": "markdown",
   "metadata": {},
   "source": [
    "## Analyzing the Data  "
   ]
  },
  {
   "cell_type": "markdown",
   "metadata": {},
   "source": [
    "Let's now analyze how images in the dataset look like. "
   ]
  },
  {
   "cell_type": "code",
   "execution_count": 270,
   "metadata": {},
   "outputs": [
    {
     "name": "stdout",
     "output_type": "stream",
     "text": [
      "Training data shape :  (60000, 28, 28) (60000,)\n",
      "Testing data shape :  (10000, 28, 28) (10000,)\n"
     ]
    }
   ],
   "source": [
    "from tensorflow.keras.utils import to_categorical\n",
    "\n",
    "\n",
    "print('Training data shape : ', train_X.shape, train_Y.shape)\n",
    "\n",
    "print('Testing data shape : ', test_X.shape, test_Y.shape)"
   ]
  },
  {
   "cell_type": "markdown",
   "metadata": {},
   "source": [
    "From the above output, we can see that the training data has a shape of 60000 x 28 x 28 since there are 60,000 training samples each of 28 x 28 dimension. Similarly, the test data has a shape of 10000 x 28 x 28 since there are 10,000 testing samples."
   ]
  },
  {
   "cell_type": "code",
   "execution_count": 271,
   "metadata": {},
   "outputs": [
    {
     "name": "stdout",
     "output_type": "stream",
     "text": [
      "Total number of outputs :  10\n",
      "Output classes :  [0 1 2 3 4 5 6 7 8 9]\n"
     ]
    }
   ],
   "source": [
    "# Let's find the unique number of classes from the train labels.\n",
    "classes = np.unique(train_Y)\n",
    "nClasses = len(classes)\n",
    "print('Total number of outputs : ', nClasses)\n",
    "print('Output classes : ', classes)"
   ]
  },
  {
   "cell_type": "markdown",
   "metadata": {},
   "source": [
    "There is a total of 10 output classes that range from 0 to 9."
   ]
  },
  {
   "cell_type": "code",
   "execution_count": 272,
   "metadata": {},
   "outputs": [
    {
     "data": {
      "text/plain": [
       "Text(0.5, 1.0, 'Ground Truth : 9')"
      ]
     },
     "execution_count": 272,
     "metadata": {},
     "output_type": "execute_result"
    },
    {
     "data": {
      "image/png": "[encoded data removed]",
      "text/plain": [
       "<Figure size 500x500 with 2 Axes>"
      ]
     },
     "metadata": {},
     "output_type": "display_data"
    }
   ],
   "source": [
    "plt.figure(figsize=[5,5])\n",
    "\n",
    "# Let's display the first image in training data\n",
    "plt.subplot(121)\n",
    "plt.imshow(train_X[0,:,:], cmap='gray')\n",
    "plt.title(\"Ground Truth : {}\".format(train_Y[0]))\n",
    "\n",
    "# Let's display the first image in testing data\n",
    "plt.subplot(122)\n",
    "plt.imshow(test_X[0,:,:], cmap='gray')\n",
    "plt.title(\"Ground Truth : {}\".format(test_Y[0]))"
   ]
  },
  {
   "cell_type": "markdown",
   "metadata": {},
   "source": [
    "The output of above two plots looks like an ankle boot, and this class is assigned a class label of 9. Similarly, other fashion products will have different labels, but similar products will have same labels."
   ]
  },
  {
   "cell_type": "code",
   "execution_count": 273,
   "metadata": {},
   "outputs": [
    {
     "data": {
      "text/plain": [
       "'\\n0 => T-shirt/top \\n1 => Trouser \\n2 => Pullover \\n3 => Dress \\n4 => Coat \\n5 => Sandal \\n6 => Shirt \\n7 => Sneaker \\n8 => Bag \\n9 => Ankle boot '"
      ]
     },
     "execution_count": 273,
     "metadata": {},
     "output_type": "execute_result"
    }
   ],
   "source": [
    "# Extracting class labels.\n",
    "class_labels = [\"T-shirt/top\",\"Trouser\",\"Pullover\",\"Dress\",\"Coat\",\"Sandal\",\"Shirt\",\"Sneaker\",\"Bag\",\"Ankle boot\"]\n",
    "'''\n",
    "0 => T-shirt/top \n",
    "1 => Trouser \n",
    "2 => Pullover \n",
    "3 => Dress \n",
    "4 => Coat \n",
    "5 => Sandal \n",
    "6 => Shirt \n",
    "7 => Sneaker \n",
    "8 => Bag \n",
    "9 => Ankle boot '''"
   ]
  },
  {
   "cell_type": "markdown",
   "metadata": {},
   "source": [
    "## Data Preprocessing "
   ]
  },
  {
   "cell_type": "markdown",
   "metadata": {},
   "source": [
    "As we could see in the above plot, the images are grayscale images have pixel values that range from 0 to 255. Also, these images have a dimension of 28 x 28. As a result, we will need to preprocess the data before we feed it into the model. "
   ]
  },
  {
   "cell_type": "code",
   "execution_count": 274,
   "metadata": {},
   "outputs": [],
   "source": [
    "train1_X = train_X\n",
    "train1_Y = train_Y\n",
    "test1_X  = test_X\n",
    "test1_Y  = test_Y"
   ]
  },
  {
   "cell_type": "code",
   "execution_count": 275,
   "metadata": {},
   "outputs": [
    {
     "data": {
      "text/plain": [
       "((60000, 28, 28, 1), (10000, 28, 28, 1))"
      ]
     },
     "execution_count": 275,
     "metadata": {},
     "output_type": "execute_result"
    }
   ],
   "source": [
    "train_X = train_X.reshape(-1, 28,28, 1)\n",
    "test_X = test_X.reshape(-1, 28,28, 1)\n",
    "train_X.shape, test_X.shape"
   ]
  },
  {
   "cell_type": "markdown",
   "metadata": {},
   "source": [
    "The data now is in an int8 format, so before we feed it into the network we need to convert its type to float32, and we also have to rescale the pixel values in range 0 - 1."
   ]
  },
  {
   "cell_type": "code",
   "execution_count": 276,
   "metadata": {},
   "outputs": [],
   "source": [
    "train1_X = train1_X.astype('float32')\n",
    "test1_X =  test1_X.astype('float32')\n",
    "train1_X = train1_X/255\n",
    "test1_X =  test1_X/255"
   ]
  },
  {
   "cell_type": "code",
   "execution_count": 277,
   "metadata": {},
   "outputs": [],
   "source": [
    "train_X = train_X.astype('float32')\n",
    "test_X = test_X.astype('float32')\n",
    "train_X = train_X / 255\n",
    "test_X = test_X / 255"
   ]
  },
  {
   "cell_type": "markdown",
   "metadata": {},
   "source": [
    "# Applying ANN"
   ]
  },
  {
   "cell_type": "markdown",
   "metadata": {},
   "source": [
    "First, let's import all the necessary modules required to train the model."
   ]
  },
  {
   "cell_type": "code",
   "execution_count": 244,
   "metadata": {},
   "outputs": [],
   "source": [
    "import keras\n",
    "from tensorflow.keras.layers import Input\n",
    "from tensorflow.keras.models import Sequential,Model\n",
    "from tensorflow.keras.layers import Dense, Dropout, Flatten\n",
    "from tensorflow.keras.layers import Conv2D, MaxPooling2D\n",
    "from tensorflow.keras.layers import BatchNormalization\n",
    "from tensorflow.keras.layers import LeakyReLU\n",
    "from tensorflow.keras.utils import plot_model\n"
   ]
  },
  {
   "cell_type": "code",
   "execution_count": 245,
   "metadata": {},
   "outputs": [],
   "source": [
    "model_A = keras.models.Sequential([\n",
    "                         keras.layers.Flatten(input_shape=[28,28]),\n",
    "                         keras.layers.Dense(units=32, activation='relu'),\n",
    "                         keras.layers.Dense(units=10, activation='softmax')\n",
    "])"
   ]
  },
  {
   "cell_type": "code",
   "execution_count": 246,
   "metadata": {},
   "outputs": [
    {
     "name": "stdout",
     "output_type": "stream",
     "text": [
      "Model: \"sequential_11\"\n",
      "_________________________________________________________________\n",
      " Layer (type)                Output Shape              Param #   \n",
      "=================================================================\n",
      " flatten_11 (Flatten)        (None, 784)               0         \n",
      "                                                                 \n",
      " dense_22 (Dense)            (None, 32)                25120     \n",
      "                                                                 \n",
      " dense_23 (Dense)            (None, 10)                330       \n",
      "                                                                 \n",
      "=================================================================\n",
      "Total params: 25450 (99.41 KB)\n",
      "Trainable params: 25450 (99.41 KB)\n",
      "Non-trainable params: 0 (0.00 Byte)\n",
      "_________________________________________________________________\n"
     ]
    }
   ],
   "source": [
    "model_A.summary()"
   ]
  },
  {
   "cell_type": "markdown",
   "metadata": {},
   "source": [
    "Formula for calculation of parameters above for dense layer:\n",
    "\n",
    "(input_channels + 1) * num_filters\n",
    "\n",
    "(784+1)*32 = 25120"
   ]
  },
  {
   "cell_type": "code",
   "execution_count": 247,
   "metadata": {},
   "outputs": [],
   "source": [
    "model_A.compile(optimizer='adam', loss='sparse_categorical_crossentropy', metrics=['accuracy'])"
   ]
  },
  {
   "cell_type": "code",
   "execution_count": 248,
   "metadata": {},
   "outputs": [
    {
     "name": "stdout",
     "output_type": "stream",
     "text": [
      "Epoch 1/20\n",
      "1875/1875 [==============================] - 5s 2ms/step - loss: 0.5477 - accuracy: 0.8095\n",
      "Epoch 2/20\n",
      "1875/1875 [==============================] - 5s 2ms/step - loss: 0.4173 - accuracy: 0.8540\n",
      "Epoch 3/20\n",
      "1875/1875 [==============================] - 4s 2ms/step - loss: 0.3839 - accuracy: 0.8641\n",
      "Epoch 4/20\n",
      "1875/1875 [==============================] - 4s 2ms/step - loss: 0.3629 - accuracy: 0.8700\n",
      "Epoch 5/20\n",
      "1875/1875 [==============================] - 4s 2ms/step - loss: 0.3477 - accuracy: 0.8751\n",
      "Epoch 6/20\n",
      "1875/1875 [==============================] - 5s 2ms/step - loss: 0.3342 - accuracy: 0.8801\n",
      "Epoch 7/20\n",
      "1875/1875 [==============================] - 4s 2ms/step - loss: 0.3225 - accuracy: 0.8831\n",
      "Epoch 8/20\n",
      "1875/1875 [==============================] - 4s 2ms/step - loss: 0.3135 - accuracy: 0.8863\n",
      "Epoch 9/20\n",
      "1875/1875 [==============================] - 5s 2ms/step - loss: 0.3058 - accuracy: 0.8894\n",
      "Epoch 10/20\n",
      "1875/1875 [==============================] - 4s 2ms/step - loss: 0.2994 - accuracy: 0.8905\n",
      "Epoch 11/20\n",
      "1875/1875 [==============================] - 5s 2ms/step - loss: 0.2942 - accuracy: 0.8916\n",
      "Epoch 12/20\n",
      "1875/1875 [==============================] - 4s 2ms/step - loss: 0.2884 - accuracy: 0.8948\n",
      "Epoch 13/20\n",
      "1875/1875 [==============================] - 4s 2ms/step - loss: 0.2827 - accuracy: 0.8967\n",
      "Epoch 14/20\n",
      "1875/1875 [==============================] - 4s 2ms/step - loss: 0.2776 - accuracy: 0.8978\n",
      "Epoch 15/20\n",
      "1875/1875 [==============================] - 4s 2ms/step - loss: 0.2749 - accuracy: 0.9006\n",
      "Epoch 16/20\n",
      "1875/1875 [==============================] - 5s 3ms/step - loss: 0.2689 - accuracy: 0.9003\n",
      "Epoch 17/20\n",
      "1875/1875 [==============================] - 4s 2ms/step - loss: 0.2649 - accuracy: 0.9019\n",
      "Epoch 18/20\n",
      "1875/1875 [==============================] - 4s 2ms/step - loss: 0.2615 - accuracy: 0.9034\n",
      "Epoch 19/20\n",
      "1875/1875 [==============================] - 4s 2ms/step - loss: 0.2597 - accuracy: 0.9035\n",
      "Epoch 20/20\n",
      "1875/1875 [==============================] - 5s 2ms/step - loss: 0.2559 - accuracy: 0.9056\n"
     ]
    },
    {
     "data": {
      "text/plain": [
       "<keras.src.callbacks.History at 0x16e38100e80>"
      ]
     },
     "execution_count": 248,
     "metadata": {},
     "output_type": "execute_result"
    }
   ],
   "source": [
    "model_A.fit(train1_X,train1_Y, epochs=20)"
   ]
  },
  {
   "cell_type": "markdown",
   "metadata": {},
   "source": [
    "# To Test and Evaluate Neural Network Model"
   ]
  },
  {
   "cell_type": "code",
   "execution_count": 250,
   "metadata": {},
   "outputs": [
    {
     "name": "stdout",
     "output_type": "stream",
     "text": [
      "313/313 [==============================] - 1s 2ms/step - loss: 0.3613 - accuracy: 0.8736\n"
     ]
    },
    {
     "data": {
      "text/plain": [
       "[0.36133983731269836, 0.8736000061035156]"
      ]
     },
     "execution_count": 250,
     "metadata": {},
     "output_type": "execute_result"
    }
   ],
   "source": [
    "model_A.evaluate(test1_X,test1_Y)"
   ]
  },
  {
   "cell_type": "markdown",
   "metadata": {},
   "source": [
    "Although accuracy seems to be good but the loss value is still larger."
   ]
  },
  {
   "cell_type": "code",
   "execution_count": 251,
   "metadata": {},
   "outputs": [
    {
     "name": "stdout",
     "output_type": "stream",
     "text": [
      "313/313 [==============================] - 1s 2ms/step\n"
     ]
    },
    {
     "data": {
      "text/plain": [
       "array([[1.7285188e-07, 1.1445051e-11, 3.2964706e-06, ..., 8.1504993e-03,\n",
       "        2.1260548e-06, 9.9135393e-01],\n",
       "       [4.2892116e-06, 1.7049874e-15, 9.9667513e-01, ..., 4.4880403e-28,\n",
       "        8.0775948e-11, 2.7352346e-16],\n",
       "       [4.8749562e-06, 9.9999428e-01, 5.1853885e-07, ..., 2.3180865e-15,\n",
       "        5.9663129e-11, 3.5960413e-21],\n",
       "       ...,\n",
       "       [4.3270271e-04, 4.7629224e-13, 4.3946606e-04, ..., 1.2011677e-13,\n",
       "        9.9703741e-01, 1.4352300e-15],\n",
       "       [2.1482006e-06, 9.9981636e-01, 2.9944241e-07, ..., 6.2659922e-09,\n",
       "        7.1714583e-12, 3.4973704e-12],\n",
       "       [7.6590886e-06, 5.6035651e-07, 7.4924661e-05, ..., 1.1244827e-02,\n",
       "        1.3642558e-03, 2.9664722e-04]], dtype=float32)"
      ]
     },
     "execution_count": 251,
     "metadata": {},
     "output_type": "execute_result"
    }
   ],
   "source": [
    "y_pred = model_A.predict(test1_X)\n",
    "y_pred"
   ]
  },
  {
   "cell_type": "code",
   "execution_count": 252,
   "metadata": {},
   "outputs": [],
   "source": [
    "y_pred = np.argmax(np.round(y_pred),axis=1)"
   ]
  },
  {
   "cell_type": "markdown",
   "metadata": {},
   "source": [
    "# Classification report for ANN"
   ]
  },
  {
   "cell_type": "code",
   "execution_count": 253,
   "metadata": {},
   "outputs": [
    {
     "name": "stdout",
     "output_type": "stream",
     "text": [
      "              precision    recall  f1-score   support\n",
      "\n",
      "     Class 0       0.67      0.87      0.76      1000\n",
      "     Class 1       0.99      0.95      0.97      1000\n",
      "     Class 2       0.85      0.71      0.77      1000\n",
      "     Class 3       0.82      0.92      0.87      1000\n",
      "     Class 4       0.78      0.80      0.79      1000\n",
      "     Class 5       0.97      0.94      0.96      1000\n",
      "     Class 6       0.78      0.61      0.69      1000\n",
      "     Class 7       0.94      0.94      0.94      1000\n",
      "     Class 8       0.98      0.95      0.96      1000\n",
      "     Class 9       0.94      0.97      0.95      1000\n",
      "\n",
      "    accuracy                           0.87     10000\n",
      "   macro avg       0.87      0.87      0.87     10000\n",
      "weighted avg       0.87      0.87      0.87     10000\n",
      "\n"
     ]
    }
   ],
   "source": [
    "\n",
    "from sklearn.metrics import classification_report\n",
    "target_names = [\"Class {}\".format(i) for i in range(num_classes)]\n",
    "print(classification_report(test1_Y, y_pred, target_names=target_names))"
   ]
  },
  {
   "cell_type": "code",
   "execution_count": 254,
   "metadata": {},
   "outputs": [
    {
     "data": {
      "text/plain": [
       "6"
      ]
     },
     "execution_count": 254,
     "metadata": {},
     "output_type": "execute_result"
    }
   ],
   "source": [
    "y_pred[4].round(2)"
   ]
  },
  {
   "cell_type": "code",
   "execution_count": 255,
   "metadata": {},
   "outputs": [
    {
     "data": {
      "text/plain": [
       "0"
      ]
     },
     "execution_count": 255,
     "metadata": {},
     "output_type": "execute_result"
    }
   ],
   "source": [
    "np.argmax(y_pred[6].round(2))"
   ]
  },
  {
   "cell_type": "code",
   "execution_count": 256,
   "metadata": {},
   "outputs": [],
   "source": [
    "# Classes\n",
    "#0 => T-shirt/top \n",
    "#1 => Trouser \n",
    "#2 => Pullover \n",
    "#3 => Dress \n",
    "#4 => Coat \n",
    "#5 => Sandal \n",
    "#6 => Shirt \n",
    "#7 => Sneaker \n",
    "#8 => Bag \n",
    "#9 => Ankle boot"
   ]
  },
  {
   "cell_type": "markdown",
   "metadata": {},
   "source": [
    "## Applying CNN now."
   ]
  },
  {
   "cell_type": "markdown",
   "metadata": {},
   "source": [
    "In Keras, we can just stack up layers by adding the desired layer one by one. That's exactly what we will do here: we will first add a first convolutional layer with Conv2D(). Note that we use this function because we are working with images. Next, we add the Leaky ReLU activation function which helps the network learn non-linear decision boundaries. Since we have ten different classes, we will need a non-linear decision boundary that could separate these ten classes which are not linearly separable.\n",
    "\n",
    "More specifically, we add Leaky ReLUs because they attempt to fix the problem of dying Rectified Linear Units (ReLUs). The ReLU activation function is used a lot in neural network architectures and more specifically in convolutional networks, where it has proven to be more effective than the widely used logistic sigmoid function. The ReLU function allows the activation to be thresholded at zero. However, during the training, ReLU units can \"die\". This can happen when a large gradient flows through a ReLU neuron: it can cause the weights to update in such a way that the neuron will never activate on any data point again. If this happens, then the gradient flowing through the unit will forever be zero from that point on. Leaky ReLUs attempt to solve this: the function will not be zero but will instead have a small negative slope.\n",
    "\n",
    "Next,we will add the max-pooling layer with MaxPooling2D() and so on. The last layer is a Dense layer that has a softmax activation function with 10 units, which is needed for this multi-class classification problem."
   ]
  },
  {
   "cell_type": "markdown",
   "metadata": {},
   "source": [
    "We will use a batch size of 64 using a higher batch size of 128 or 256 is also preferable it all depends on the memory. It contributes massively to determining the learning parameters and affects the prediction accuracy. We will train the network for 20 epochs."
   ]
  },
  {
   "cell_type": "code",
   "execution_count": 278,
   "metadata": {},
   "outputs": [],
   "source": [
    "batch_size = 64\n",
    "epochs = 20\n",
    "num_classes = 10"
   ]
  },
  {
   "cell_type": "code",
   "execution_count": 279,
   "metadata": {},
   "outputs": [],
   "source": [
    "fashion_model = Sequential()\n",
    "fashion_model.add(Conv2D(32, kernel_size=(3, 3),activation='linear',input_shape=(28,28,1),padding='same'))\n",
    "fashion_model.add(LeakyReLU(alpha=0.1))\n",
    "fashion_model.add(MaxPooling2D((2, 2),padding='same'))\n",
    "fashion_model.add(Conv2D(64, (3, 3), activation='linear',padding='same'))\n",
    "fashion_model.add(LeakyReLU(alpha=0.1))\n",
    "fashion_model.add(MaxPooling2D(pool_size=(2, 2),padding='same'))\n",
    "fashion_model.add(Conv2D(128, (3, 3), activation='linear',padding='same'))\n",
    "fashion_model.add(LeakyReLU(alpha=0.1))                  \n",
    "fashion_model.add(MaxPooling2D(pool_size=(2, 2),padding='same'))\n",
    "fashion_model.add(Flatten())\n",
    "fashion_model.add(Dense(128, activation='linear'))\n",
    "fashion_model.add(LeakyReLU(alpha=0.1))                  \n",
    "fashion_model.add(Dense(num_classes, activation='softmax'))"
   ]
  },
  {
   "cell_type": "markdown",
   "metadata": {},
   "source": [
    "## Let's compile the Model "
   ]
  },
  {
   "cell_type": "markdown",
   "metadata": {},
   "source": [
    "After the model is created, we compile it using the Adam optimizer, one of the most popular optimization algorithms. Additionally, we specify the loss type which is categorical cross entropy which is used for multi-class classification. Lastly, we specify the metrics as accuracy which we want to analyze while the model is training."
   ]
  },
  {
   "cell_type": "code",
   "execution_count": 280,
   "metadata": {},
   "outputs": [],
   "source": [
    "fashion_model.compile(loss=keras.losses.categorical_crossentropy, optimizer=keras.optimizers.Adam(),metrics=['accuracy'])"
   ]
  },
  {
   "cell_type": "markdown",
   "metadata": {},
   "source": [
    "Let's visualize the layers that we created in the above steps by using the summary function. This will show some parameters in each layer and also the total parameters in our model."
   ]
  },
  {
   "cell_type": "code",
   "execution_count": 281,
   "metadata": {},
   "outputs": [
    {
     "name": "stdout",
     "output_type": "stream",
     "text": [
      "Model: \"sequential_13\"\n",
      "_________________________________________________________________\n",
      " Layer (type)                Output Shape              Param #   \n",
      "=================================================================\n",
      " conv2d_18 (Conv2D)          (None, 28, 28, 32)        320       \n",
      "                                                                 \n",
      " leaky_re_lu_24 (LeakyReLU)  (None, 28, 28, 32)        0         \n",
      "                                                                 \n",
      " max_pooling2d_18 (MaxPooli  (None, 14, 14, 32)        0         \n",
      " ng2D)                                                           \n",
      "                                                                 \n",
      " conv2d_19 (Conv2D)          (None, 14, 14, 64)        18496     \n",
      "                                                                 \n",
      " leaky_re_lu_25 (LeakyReLU)  (None, 14, 14, 64)        0         \n",
      "                                                                 \n",
      " max_pooling2d_19 (MaxPooli  (None, 7, 7, 64)          0         \n",
      " ng2D)                                                           \n",
      "                                                                 \n",
      " conv2d_20 (Conv2D)          (None, 7, 7, 128)         73856     \n",
      "                                                                 \n",
      " leaky_re_lu_26 (LeakyReLU)  (None, 7, 7, 128)         0         \n",
      "                                                                 \n",
      " max_pooling2d_20 (MaxPooli  (None, 4, 4, 128)         0         \n",
      " ng2D)                                                           \n",
      "                                                                 \n",
      " flatten_13 (Flatten)        (None, 2048)              0         \n",
      "                                                                 \n",
      " dense_26 (Dense)            (None, 128)               262272    \n",
      "                                                                 \n",
      " leaky_re_lu_27 (LeakyReLU)  (None, 128)               0         \n",
      "                                                                 \n",
      " dense_27 (Dense)            (None, 10)                1290      \n",
      "                                                                 \n",
      "=================================================================\n",
      "Total params: 356234 (1.36 MB)\n",
      "Trainable params: 356234 (1.36 MB)\n",
      "Non-trainable params: 0 (0.00 Byte)\n",
      "_________________________________________________________________\n"
     ]
    }
   ],
   "source": [
    "fashion_model.summary()"
   ]
  },
  {
   "cell_type": "raw",
   "metadata": {},
   "source": [
    "No of paramters in a convolutional layer is (K*d + 1)*f\n",
    "In the above, K is the kernel size, d is the feature space size in the previous layer and f is the feature space size of the current layer.\n",
    "So for the first convolutional layer: ((3*3)*1 +1)*32 = 320\n",
    "for the second convolutional layer:((3*3)*32 +1)*64 = 18496\n",
    "for the third convolutional layer: ((3*3)*64 +1)*128 = 73856\n",
    "for the first dense layer: 2048*128 + 1*128 = 262272\n",
    "for the second dense layer: 128*10 + 1*10 = 1290\n",
    "\n",
    "Total trainable parameters: 320 + 18496 + 73856 + 262272 + 1290 = 356234"
   ]
  },
  {
   "cell_type": "markdown",
   "metadata": {},
   "source": [
    "## Let's train the Model "
   ]
  },
  {
   "cell_type": "markdown",
   "metadata": {},
   "source": [
    "Let's convert first to one-hot encoding of class labels.\n",
    "In one-hot encoding, we convert the categorical data into a vector of numbers. The reason why we convert the categorical data in one hot encoding is that machine learning algorithms cannot work with categorical data directly. we generate one boolean column for each category or class. Only one of these columns could take on the value 1 for each sample. Hence, the term one-hot encoding.\n",
    "\n",
    "For our problem statement, the one hot encoding will be a row vector, and for each image, it will have a dimension of 1 x 10. The important thing to note here is that the vector consists of all zeros except for the class that it represents, and for that, it is 1. For example, the ankle boot image that we plotted above has a label of 9, so for all the ankle boot images, the one hot encoding vector would be [0 0 0 0 0 0 0 0 1 0].\n",
    "\n",
    "So let's convert the training and testing labels into one-hot encoding vectors:"
   ]
  },
  {
   "cell_type": "code",
   "execution_count": 282,
   "metadata": {},
   "outputs": [
    {
     "name": "stdout",
     "output_type": "stream",
     "text": [
      "Original label: 3\n",
      "After conversion to one-hot: [0. 0. 0. 1. 0. 0. 0. 0. 0. 0.]\n"
     ]
    }
   ],
   "source": [
    "# Let's change the labels from categorical to one-hot encoding\n",
    "train_Y_one_hot = to_categorical(train_Y)\n",
    "test_Y_one_hot = to_categorical(test_Y)\n",
    "\n",
    "# Let's display the category label using one-hot encoding\n",
    "print('Original label:', train_Y[20])\n",
    "print('After conversion to one-hot:', train_Y_one_hot[20])"
   ]
  },
  {
   "cell_type": "markdown",
   "metadata": {},
   "source": [
    "In machine learning or any data specific task, we should partition the data correctly. For the model to generalize well, we split the training data into two parts, one designed for training and another one for validation. In this case, we will train the model on 80% of the training data and validate it on 20% of the remaining training data. This will also help to reduce overfitting since we will be validating the model on the data it would not have seen in training phase, which will help in boosting the test performance."
   ]
  },
  {
   "cell_type": "code",
   "execution_count": 283,
   "metadata": {},
   "outputs": [],
   "source": [
    "from sklearn.model_selection import train_test_split\n",
    "train_X,valid_X,train_label,valid_label = train_test_split(train_X, train_Y_one_hot, test_size=0.2, random_state=13)"
   ]
  },
  {
   "cell_type": "code",
   "execution_count": 284,
   "metadata": {},
   "outputs": [
    {
     "data": {
      "text/plain": [
       "((48000, 28, 28, 1), (12000, 28, 28, 1), (48000, 10), (12000, 10))"
      ]
     },
     "execution_count": 284,
     "metadata": {},
     "output_type": "execute_result"
    }
   ],
   "source": [
    "# Let's check the shape again.\n",
    "train_X.shape,valid_X.shape,train_label.shape,valid_label.shape"
   ]
  },
  {
   "cell_type": "code",
   "execution_count": 285,
   "metadata": {},
   "outputs": [
    {
     "name": "stdout",
     "output_type": "stream",
     "text": [
      "Epoch 1/20\n",
      "750/750 [==============================] - 79s 104ms/step - loss: 0.4609 - accuracy: 0.8339 - val_loss: 0.3575 - val_accuracy: 0.8672\n",
      "Epoch 2/20\n",
      "750/750 [==============================] - 76s 101ms/step - loss: 0.2893 - accuracy: 0.8941 - val_loss: 0.2752 - val_accuracy: 0.9007\n",
      "Epoch 3/20\n",
      "750/750 [==============================] - 76s 101ms/step - loss: 0.2389 - accuracy: 0.9133 - val_loss: 0.2512 - val_accuracy: 0.9101\n",
      "Epoch 4/20\n",
      "750/750 [==============================] - 80s 106ms/step - loss: 0.2077 - accuracy: 0.9240 - val_loss: 0.2391 - val_accuracy: 0.9124\n",
      "Epoch 5/20\n",
      "750/750 [==============================] - 79s 105ms/step - loss: 0.1813 - accuracy: 0.9333 - val_loss: 0.2351 - val_accuracy: 0.9143\n",
      "Epoch 6/20\n",
      "750/750 [==============================] - 79s 105ms/step - loss: 0.1586 - accuracy: 0.9412 - val_loss: 0.2250 - val_accuracy: 0.9193\n",
      "Epoch 7/20\n",
      "750/750 [==============================] - 79s 105ms/step - loss: 0.1376 - accuracy: 0.9490 - val_loss: 0.2380 - val_accuracy: 0.9221\n",
      "Epoch 8/20\n",
      "750/750 [==============================] - 76s 102ms/step - loss: 0.1159 - accuracy: 0.9570 - val_loss: 0.2471 - val_accuracy: 0.9183\n",
      "Epoch 9/20\n",
      "750/750 [==============================] - 75s 101ms/step - loss: 0.1019 - accuracy: 0.9619 - val_loss: 0.2729 - val_accuracy: 0.9122\n",
      "Epoch 10/20\n",
      "750/750 [==============================] - 76s 101ms/step - loss: 0.0878 - accuracy: 0.9668 - val_loss: 0.3038 - val_accuracy: 0.9175\n",
      "Epoch 11/20\n",
      "750/750 [==============================] - 77s 103ms/step - loss: 0.0733 - accuracy: 0.9725 - val_loss: 0.2772 - val_accuracy: 0.9224\n",
      "Epoch 12/20\n",
      "750/750 [==============================] - 75s 100ms/step - loss: 0.0646 - accuracy: 0.9753 - val_loss: 0.2845 - val_accuracy: 0.9255\n",
      "Epoch 13/20\n",
      "750/750 [==============================] - 74s 98ms/step - loss: 0.0541 - accuracy: 0.9794 - val_loss: 0.3600 - val_accuracy: 0.9164\n",
      "Epoch 14/20\n",
      "750/750 [==============================] - 76s 101ms/step - loss: 0.0465 - accuracy: 0.9829 - val_loss: 0.3540 - val_accuracy: 0.9233\n",
      "Epoch 15/20\n",
      "750/750 [==============================] - 76s 101ms/step - loss: 0.0454 - accuracy: 0.9823 - val_loss: 0.3629 - val_accuracy: 0.9177\n",
      "Epoch 16/20\n",
      "750/750 [==============================] - 75s 100ms/step - loss: 0.0406 - accuracy: 0.9849 - val_loss: 0.3715 - val_accuracy: 0.9233\n",
      "Epoch 17/20\n",
      "750/750 [==============================] - 75s 100ms/step - loss: 0.0351 - accuracy: 0.9867 - val_loss: 0.4033 - val_accuracy: 0.9233\n",
      "Epoch 18/20\n",
      "750/750 [==============================] - 74s 99ms/step - loss: 0.0369 - accuracy: 0.9869 - val_loss: 0.4409 - val_accuracy: 0.9173\n",
      "Epoch 19/20\n",
      "750/750 [==============================] - 74s 99ms/step - loss: 0.0265 - accuracy: 0.9905 - val_loss: 0.4403 - val_accuracy: 0.9144\n",
      "Epoch 20/20\n",
      "750/750 [==============================] - 74s 99ms/step - loss: 0.0273 - accuracy: 0.9899 - val_loss: 0.4421 - val_accuracy: 0.9231\n"
     ]
    }
   ],
   "source": [
    "# Let's train the model now.\n",
    "fashion_train = fashion_model.fit(train_X, train_label, batch_size=batch_size,epochs=epochs,verbose=1,validation_data=(valid_X, valid_label))"
   ]
  },
  {
   "cell_type": "markdown",
   "metadata": {},
   "source": [
    "## Model Evaluation of the Test Data Set "
   ]
  },
  {
   "cell_type": "code",
   "execution_count": 286,
   "metadata": {},
   "outputs": [],
   "source": [
    "test_eval = fashion_model.evaluate(test_X, test_Y_one_hot, verbose=0)"
   ]
  },
  {
   "cell_type": "code",
   "execution_count": 287,
   "metadata": {},
   "outputs": [
    {
     "name": "stdout",
     "output_type": "stream",
     "text": [
      "Test loss: 0.48750758171081543\n",
      "Test accuracy: 0.9193000197410583\n"
     ]
    }
   ],
   "source": [
    "print('Test loss:', test_eval[0])\n",
    "print('Test accuracy:', test_eval[1])"
   ]
  },
  {
   "cell_type": "markdown",
   "metadata": {},
   "source": [
    "The test accuracy looks impressive. It turns out that our classifier does better with mean accuracy of 0.919. But the loss is still too high- 0.487.\n",
    "\n",
    "Let's put our model evaluation into perspective and plot the accuracy and loss plots between training and validation data:"
   ]
  },
  {
   "cell_type": "code",
   "execution_count": 288,
   "metadata": {},
   "outputs": [
    {
     "data": {
      "image/png": "[encoded data removed]",
      "text/plain": [
       "<Figure size 640x480 with 1 Axes>"
      ]
     },
     "metadata": {},
     "output_type": "display_data"
    },
    {
     "data": {
      "image/png": "[encoded data removed]",
      "text/plain": [
       "<Figure size 640x480 with 1 Axes>"
      ]
     },
     "metadata": {},
     "output_type": "display_data"
    }
   ],
   "source": [
    "accuracy = fashion_train.history['accuracy']\n",
    "val_accuracy = fashion_train.history['val_accuracy']\n",
    "loss = fashion_train.history['loss']\n",
    "val_loss = fashion_train.history['val_loss']\n",
    "epochs = range(len(accuracy))\n",
    "plt.plot(epochs, accuracy, 'bo', label='Training accuracy')\n",
    "plt.plot(epochs, val_accuracy, 'b', label='Validation accuracy')\n",
    "plt.title('Training and validation accuracy')\n",
    "plt.legend()\n",
    "plt.figure()\n",
    "plt.plot(epochs, loss, 'bo', label='Training loss')\n",
    "plt.plot(epochs, val_loss, 'b', label='Validation loss')\n",
    "plt.title('Training and validation loss')\n",
    "plt.legend()\n",
    "plt.show()"
   ]
  },
  {
   "cell_type": "markdown",
   "metadata": {},
   "source": [
    "From the above two plots, we can see that the validation accuracy almost became stagnant after 4-5 epochs and slightly increased at certain epochs further.\n",
    "\n",
    "The validation loss shows that this is the sign of overfitting, similar to validation accuracy it linearly decreased but after about 5th epoch it started to increase. This means that the model tried to memorize the data and succeeded.\n",
    "\n",
    "With this in mind, it's time to introduce dropout into our model and see if it helps in reducing overfitting."
   ]
  },
  {
   "cell_type": "markdown",
   "metadata": {},
   "source": [
    "## Adding Dropout into the Network "
   ]
  },
  {
   "cell_type": "markdown",
   "metadata": {},
   "source": [
    "We can add a dropout layer to overcome the problem of overfitting to some extent. Dropout randomly turns off a fraction of neurons during the training process, reducing the dependency on the training set by some amount. How many fractions of neurons we want to turn off is decided by a hyperparameter, which can be tuned accordingly. This way, turning off some neurons will not allow the network to memorize the training data since not all the neurons will be active at the same time and the inactive neurons will not be able to learn anything.\n",
    "\n",
    "So let's create, compile and train the network again but this time with dropout. And run it for 20 epochs with a batch size of 64."
   ]
  },
  {
   "cell_type": "code",
   "execution_count": 289,
   "metadata": {},
   "outputs": [],
   "source": [
    "batch_size = 64\n",
    "epochs = 20\n",
    "num_classes = 10"
   ]
  },
  {
   "cell_type": "code",
   "execution_count": 290,
   "metadata": {},
   "outputs": [],
   "source": [
    "fashion_model1 = Sequential()\n",
    "fashion_model1.add(Conv2D(32, kernel_size=(3, 3),activation='linear',padding='same',input_shape=(28,28,1)))\n",
    "fashion_model1.add(LeakyReLU(alpha=0.1))\n",
    "fashion_model1.add(MaxPooling2D((2, 2),padding='same'))\n",
    "fashion_model1.add(Dropout(0.25))\n",
    "fashion_model1.add(Conv2D(64, (3, 3), activation='linear',padding='same'))\n",
    "fashion_model1.add(LeakyReLU(alpha=0.1))\n",
    "fashion_model1.add(MaxPooling2D(pool_size=(2, 2),padding='same'))\n",
    "fashion_model1.add(Dropout(0.25))\n",
    "fashion_model1.add(Conv2D(128, (3, 3), activation='linear',padding='same'))\n",
    "fashion_model1.add(LeakyReLU(alpha=0.1))                  \n",
    "fashion_model1.add(MaxPooling2D(pool_size=(2, 2),padding='same'))\n",
    "fashion_model1.add(Dropout(0.4))\n",
    "fashion_model1.add(Flatten())\n",
    "fashion_model1.add(Dense(128, activation='linear'))\n",
    "fashion_model1.add(LeakyReLU(alpha=0.1))           \n",
    "fashion_model1.add(Dropout(0.3))\n",
    "fashion_model1.add(Dense(num_classes, activation='softmax'))"
   ]
  },
  {
   "cell_type": "code",
   "execution_count": 291,
   "metadata": {},
   "outputs": [
    {
     "name": "stdout",
     "output_type": "stream",
     "text": [
      "Model: \"sequential_14\"\n",
      "_________________________________________________________________\n",
      " Layer (type)                Output Shape              Param #   \n",
      "=================================================================\n",
      " conv2d_21 (Conv2D)          (None, 28, 28, 32)        320       \n",
      "                                                                 \n",
      " leaky_re_lu_28 (LeakyReLU)  (None, 28, 28, 32)        0         \n",
      "                                                                 \n",
      " max_pooling2d_21 (MaxPooli  (None, 14, 14, 32)        0         \n",
      " ng2D)                                                           \n",
      "                                                                 \n",
      " dropout_8 (Dropout)         (None, 14, 14, 32)        0         \n",
      "                                                                 \n",
      " conv2d_22 (Conv2D)          (None, 14, 14, 64)        18496     \n",
      "                                                                 \n",
      " leaky_re_lu_29 (LeakyReLU)  (None, 14, 14, 64)        0         \n",
      "                                                                 \n",
      " max_pooling2d_22 (MaxPooli  (None, 7, 7, 64)          0         \n",
      " ng2D)                                                           \n",
      "                                                                 \n",
      " dropout_9 (Dropout)         (None, 7, 7, 64)          0         \n",
      "                                                                 \n",
      " conv2d_23 (Conv2D)          (None, 7, 7, 128)         73856     \n",
      "                                                                 \n",
      " leaky_re_lu_30 (LeakyReLU)  (None, 7, 7, 128)         0         \n",
      "                                                                 \n",
      " max_pooling2d_23 (MaxPooli  (None, 4, 4, 128)         0         \n",
      " ng2D)                                                           \n",
      "                                                                 \n",
      " dropout_10 (Dropout)        (None, 4, 4, 128)         0         \n",
      "                                                                 \n",
      " flatten_14 (Flatten)        (None, 2048)              0         \n",
      "                                                                 \n",
      " dense_28 (Dense)            (None, 128)               262272    \n",
      "                                                                 \n",
      " leaky_re_lu_31 (LeakyReLU)  (None, 128)               0         \n",
      "                                                                 \n",
      " dropout_11 (Dropout)        (None, 128)               0         \n",
      "                                                                 \n",
      " dense_29 (Dense)            (None, 10)                1290      \n",
      "                                                                 \n",
      "=================================================================\n",
      "Total params: 356234 (1.36 MB)\n",
      "Trainable params: 356234 (1.36 MB)\n",
      "Non-trainable params: 0 (0.00 Byte)\n",
      "_________________________________________________________________\n"
     ]
    }
   ],
   "source": [
    "fashion_model1.summary()"
   ]
  },
  {
   "cell_type": "code",
   "execution_count": 293,
   "metadata": {},
   "outputs": [],
   "source": [
    "fashion_model1.compile(loss=keras.losses.categorical_crossentropy, optimizer=keras.optimizers.Adam(),metrics=['accuracy'])"
   ]
  },
  {
   "cell_type": "code",
   "execution_count": 294,
   "metadata": {},
   "outputs": [
    {
     "name": "stdout",
     "output_type": "stream",
     "text": [
      "Epoch 1/20\n",
      "750/750 [==============================] - 86s 113ms/step - loss: 0.5984 - accuracy: 0.7765 - val_loss: 0.3839 - val_accuracy: 0.8555\n",
      "Epoch 2/20\n",
      "750/750 [==============================] - 90s 121ms/step - loss: 0.3718 - accuracy: 0.8639 - val_loss: 0.3092 - val_accuracy: 0.8849\n",
      "Epoch 3/20\n",
      "750/750 [==============================] - 88s 117ms/step - loss: 0.3237 - accuracy: 0.8815 - val_loss: 0.2776 - val_accuracy: 0.8950\n",
      "Epoch 4/20\n",
      "750/750 [==============================] - 88s 117ms/step - loss: 0.2972 - accuracy: 0.8906 - val_loss: 0.2732 - val_accuracy: 0.8972\n",
      "Epoch 5/20\n",
      "750/750 [==============================] - 85s 114ms/step - loss: 0.2791 - accuracy: 0.8963 - val_loss: 0.2399 - val_accuracy: 0.9140\n",
      "Epoch 6/20\n",
      "750/750 [==============================] - 88s 117ms/step - loss: 0.2636 - accuracy: 0.9026 - val_loss: 0.2388 - val_accuracy: 0.9116\n",
      "Epoch 7/20\n",
      "750/750 [==============================] - 87s 116ms/step - loss: 0.2504 - accuracy: 0.9064 - val_loss: 0.2273 - val_accuracy: 0.9161\n",
      "Epoch 8/20\n",
      "750/750 [==============================] - 86s 115ms/step - loss: 0.2462 - accuracy: 0.9079 - val_loss: 0.2293 - val_accuracy: 0.9160\n",
      "Epoch 9/20\n",
      "750/750 [==============================] - 85s 113ms/step - loss: 0.2372 - accuracy: 0.9117 - val_loss: 0.2210 - val_accuracy: 0.9174\n",
      "Epoch 10/20\n",
      "750/750 [==============================] - 86s 114ms/step - loss: 0.2310 - accuracy: 0.9141 - val_loss: 0.2278 - val_accuracy: 0.9183\n",
      "Epoch 11/20\n",
      "750/750 [==============================] - 87s 116ms/step - loss: 0.2255 - accuracy: 0.9161 - val_loss: 0.2169 - val_accuracy: 0.9205\n",
      "Epoch 12/20\n",
      "750/750 [==============================] - 91s 121ms/step - loss: 0.2191 - accuracy: 0.9171 - val_loss: 0.2199 - val_accuracy: 0.9214\n",
      "Epoch 13/20\n",
      "750/750 [==============================] - 92s 123ms/step - loss: 0.2130 - accuracy: 0.9212 - val_loss: 0.2182 - val_accuracy: 0.9233\n",
      "Epoch 14/20\n",
      "750/750 [==============================] - 90s 120ms/step - loss: 0.2101 - accuracy: 0.9209 - val_loss: 0.2120 - val_accuracy: 0.9202\n",
      "Epoch 15/20\n",
      "750/750 [==============================] - 91s 121ms/step - loss: 0.2087 - accuracy: 0.9210 - val_loss: 0.2092 - val_accuracy: 0.9278\n",
      "Epoch 16/20\n",
      "750/750 [==============================] - 92s 123ms/step - loss: 0.2056 - accuracy: 0.9227 - val_loss: 0.2328 - val_accuracy: 0.9151\n",
      "Epoch 17/20\n",
      "750/750 [==============================] - 90s 120ms/step - loss: 0.2037 - accuracy: 0.9239 - val_loss: 0.2178 - val_accuracy: 0.9226\n",
      "Epoch 18/20\n",
      "750/750 [==============================] - 93s 124ms/step - loss: 0.2003 - accuracy: 0.9243 - val_loss: 0.2059 - val_accuracy: 0.9265\n",
      "Epoch 19/20\n",
      "750/750 [==============================] - 90s 120ms/step - loss: 0.1967 - accuracy: 0.9264 - val_loss: 0.2195 - val_accuracy: 0.9239\n",
      "Epoch 20/20\n",
      "750/750 [==============================] - 94s 126ms/step - loss: 0.1956 - accuracy: 0.9260 - val_loss: 0.2090 - val_accuracy: 0.9273\n"
     ]
    }
   ],
   "source": [
    "fashion_train_dropout = fashion_model1.fit(train_X, train_label, batch_size=batch_size,epochs=epochs,verbose=1,validation_data=(valid_X, valid_label))"
   ]
  },
  {
   "cell_type": "markdown",
   "metadata": {},
   "source": [
    "Let's save the model so that we can directly load it and not have to train it again for 20 epochs. This way, we can load the model later on if we need it and modify the architecture; Alternatively, we can start the training process on this saved model. It is always a good idea to save the model -and even the model's weights!- because it saves time. Note that we can also save the model after every epoch so that, if some issue occurs that stops the training at an epoch, we will not have to start the training from the beginning."
   ]
  },
  {
   "cell_type": "code",
   "execution_count": 295,
   "metadata": {},
   "outputs": [
    {
     "name": "stdout",
     "output_type": "stream",
     "text": [
      "INFO:tensorflow:Assets written to: fashion_model_dropout.h5py\\assets\n"
     ]
    },
    {
     "name": "stderr",
     "output_type": "stream",
     "text": [
      "INFO:tensorflow:Assets written to: fashion_model_dropout.h5py\\assets\n"
     ]
    }
   ],
   "source": [
    "fashion_model1.save(\"fashion_model_dropout.h5py\")"
   ]
  },
  {
   "cell_type": "markdown",
   "metadata": {},
   "source": [
    "## Model Evaluation on the Test Data Set "
   ]
  },
  {
   "cell_type": "markdown",
   "metadata": {},
   "source": [
    "Finally, let's also evaluate our new model and see how it performs."
   ]
  },
  {
   "cell_type": "code",
   "execution_count": 296,
   "metadata": {},
   "outputs": [
    {
     "name": "stdout",
     "output_type": "stream",
     "text": [
      "313/313 [==============================] - 5s 16ms/step - loss: 0.2214 - accuracy: 0.9230\n"
     ]
    }
   ],
   "source": [
    "test_eval = fashion_model1.evaluate(test_X, test_Y_one_hot, verbose=1)"
   ]
  },
  {
   "cell_type": "code",
   "execution_count": 297,
   "metadata": {},
   "outputs": [
    {
     "name": "stdout",
     "output_type": "stream",
     "text": [
      "Test loss: 0.22140873968601227\n",
      "Test accuracy: 0.9229999780654907\n"
     ]
    }
   ],
   "source": [
    "print('Test loss:', test_eval[0])\n",
    "print('Test accuracy:', test_eval[1])"
   ]
  },
  {
   "cell_type": "markdown",
   "metadata": {},
   "source": [
    "Looks like adding Dropout in our model worked, even though the test accuracy did not improve significantly but the test loss(0.221) decreased much compared to the previous results(0.487).\n",
    "\n",
    "Now, let's plot the accuracy and loss plots between training and validation data."
   ]
  },
  {
   "cell_type": "code",
   "execution_count": 298,
   "metadata": {},
   "outputs": [
    {
     "data": {
      "image/png": "[encoded data removed]",
      "text/plain": [
       "<Figure size 640x480 with 1 Axes>"
      ]
     },
     "metadata": {},
     "output_type": "display_data"
    },
    {
     "data": {
      "image/png": "[encoded data removed]",
      "text/plain": [
       "<Figure size 640x480 with 1 Axes>"
      ]
     },
     "metadata": {},
     "output_type": "display_data"
    }
   ],
   "source": [
    "accuracy = fashion_train_dropout.history['accuracy']\n",
    "val_accuracy = fashion_train_dropout.history['val_accuracy']\n",
    "loss = fashion_train_dropout.history['loss'] \n",
    "val_loss = fashion_train_dropout.history['val_loss']\n",
    "epochs = range(len(accuracy))\n",
    "plt.plot(epochs, accuracy, 'bo', label='Training accuracy')\n",
    "plt.plot(epochs, val_accuracy, 'b', label='Validation accuracy')\n",
    "plt.title('Training and validation accuracy')\n",
    "plt.legend()\n",
    "plt.figure()\n",
    "plt.plot(epochs, loss, 'bo', label='Training loss')\n",
    "plt.plot(epochs, val_loss, 'b', label='Validation loss')\n",
    "plt.title('Training and validation loss')\n",
    "plt.legend()\n",
    "plt.show()"
   ]
  },
  {
   "cell_type": "markdown",
   "metadata": {},
   "source": [
    "Finally, we can see that the validation loss and validation accuracy both are almost in sync with the training loss and training accuracy. Even though the validation loss and accuracy line are not linear, but it shows that our model is not overfitting: the validation loss is decreasing and not increasing, and there is not much gap between training and validation accuracy.\n",
    "\n",
    "Therefore, we can say that your model's generalization capability became much better since the loss on both test set and validation set was only slightly more compared to the training loss."
   ]
  },
  {
   "cell_type": "markdown",
   "metadata": {},
   "source": [
    "## Let's predict labels "
   ]
  },
  {
   "cell_type": "code",
   "execution_count": 299,
   "metadata": {},
   "outputs": [
    {
     "name": "stdout",
     "output_type": "stream",
     "text": [
      "313/313 [==============================] - 6s 17ms/step\n"
     ]
    }
   ],
   "source": [
    "predicted_classes = fashion_model1.predict(test_X)"
   ]
  },
  {
   "cell_type": "markdown",
   "metadata": {},
   "source": [
    "Since the predictions we get are floating point values, it will not be feasible to compare the predicted labels with true test labels. So, we will round off the output which will convert the float values into an integer. Further, we will use np.argmax() to select the index number which has a higher value in a row.\n",
    "\n",
    "For example, let's assume a prediction for one test image to be 0 1 0 0 0 0 0 0 0 0, the output for this should be a class label 1."
   ]
  },
  {
   "cell_type": "code",
   "execution_count": 300,
   "metadata": {},
   "outputs": [],
   "source": [
    "predicted_classes = np.argmax(np.round(predicted_classes),axis=1)"
   ]
  },
  {
   "cell_type": "code",
   "execution_count": 301,
   "metadata": {},
   "outputs": [
    {
     "data": {
      "text/plain": [
       "((10000,), (10000,))"
      ]
     },
     "execution_count": 301,
     "metadata": {},
     "output_type": "execute_result"
    }
   ],
   "source": [
    "predicted_classes.shape, test_Y.shape"
   ]
  },
  {
   "cell_type": "code",
   "execution_count": 302,
   "metadata": {},
   "outputs": [
    {
     "name": "stdout",
     "output_type": "stream",
     "text": [
      "Found 9200 correct labels\n"
     ]
    },
    {
     "data": {
      "image/png": "[encoded data removed]",
      "text/plain": [
       "<Figure size 640x480 with 8 Axes>"
      ]
     },
     "metadata": {},
     "output_type": "display_data"
    }
   ],
   "source": [
    "correct = np.where(predicted_classes==test_Y)[0]\n",
    "print(\"Found %d correct labels\" % len(correct))\n",
    "for i, correct in enumerate(correct[:9]):\n",
    "    plt.subplot(3,3,i+1)\n",
    "    plt.imshow(test_X[correct].reshape(28,28), cmap='gray', interpolation='none')\n",
    "    plt.title(\"Predicted {}, Class {}\".format(predicted_classes[correct], test_Y[correct]))\n",
    "    plt.tight_layout()"
   ]
  },
  {
   "cell_type": "code",
   "execution_count": 303,
   "metadata": {},
   "outputs": [
    {
     "name": "stdout",
     "output_type": "stream",
     "text": [
      "Found 800 incorrect labels\n"
     ]
    },
    {
     "data": {
      "image/png": "[encoded data removed]",
      "text/plain": [
       "<Figure size 640x480 with 8 Axes>"
      ]
     },
     "metadata": {},
     "output_type": "display_data"
    }
   ],
   "source": [
    "incorrect = np.where(predicted_classes!=test_Y)[0]\n",
    "print(\"Found %d incorrect labels\" % len(incorrect))\n",
    "for i, incorrect in enumerate(incorrect[:9]):\n",
    "    plt.subplot(3,3,i+1)\n",
    "    plt.imshow(test_X[incorrect].reshape(28,28), cmap='gray', interpolation='none')\n",
    "    plt.title(\"Predicted {}, Class {}\".format(predicted_classes[incorrect], test_Y[incorrect]))\n",
    "    plt.tight_layout()"
   ]
  },
  {
   "cell_type": "markdown",
   "metadata": {},
   "source": [
    "By looking at a few images, we cannot be sure as to why our model is not able to classify the above images correctly, but it seems like a variety of the similar patterns present on multiple classes affect the performance of the classifier although CNN is a robust architecture. "
   ]
  },
  {
   "cell_type": "markdown",
   "metadata": {},
   "source": [
    "## Classification Report "
   ]
  },
  {
   "cell_type": "markdown",
   "metadata": {},
   "source": [
    "Classification report will help us in identifying the misclassified classes in more detail. We will be able to observe for which class the model performed bad out of the given ten classes."
   ]
  },
  {
   "cell_type": "code",
   "execution_count": 304,
   "metadata": {},
   "outputs": [
    {
     "name": "stdout",
     "output_type": "stream",
     "text": [
      "              precision    recall  f1-score   support\n",
      "\n",
      "     Class 0       0.78      0.91      0.84      1000\n",
      "     Class 1       0.99      0.98      0.99      1000\n",
      "     Class 2       0.86      0.90      0.88      1000\n",
      "     Class 3       0.92      0.92      0.92      1000\n",
      "     Class 4       0.89      0.86      0.88      1000\n",
      "     Class 5       0.99      0.99      0.99      1000\n",
      "     Class 6       0.84      0.69      0.76      1000\n",
      "     Class 7       0.96      0.98      0.97      1000\n",
      "     Class 8       0.99      0.98      0.99      1000\n",
      "     Class 9       0.98      0.97      0.97      1000\n",
      "\n",
      "    accuracy                           0.92     10000\n",
      "   macro avg       0.92      0.92      0.92     10000\n",
      "weighted avg       0.92      0.92      0.92     10000\n",
      "\n"
     ]
    }
   ],
   "source": [
    "from sklearn.metrics import classification_report\n",
    "target_names = [\"Class {}\".format(i) for i in range(num_classes)]\n",
    "print(classification_report(test_Y, predicted_classes, target_names=target_names))"
   ]
  },
  {
   "cell_type": "markdown",
   "metadata": {},
   "source": [
    "We can see that the classifier is underperforming for class 6 regarding both precision and recall. For class 0 , the classifier is lacking precision. Also, for class 4, the classifier is slightly lacking both precision and recall."
   ]
  },
  {
   "cell_type": "markdown",
   "metadata": {},
   "source": [
    "# As anticipated, the CNN model with the dropout layer demonstrated the highest performance, yielding a test loss of 0.22 and a test accuracy of 0.92 on this particular dataset."
   ]
  }
 ],
 "metadata": {
  "kernelspec": {
   "display_name": "Python 3 (ipykernel)",
   "language": "python",
   "name": "python3"
  },
  "language_info": {
   "codemirror_mode": {
    "name": "ipython",
    "version": 3
   },
   "file_extension": ".py",
   "mimetype": "text/x-python",
   "name": "python",
   "nbconvert_exporter": "python",
   "pygments_lexer": "ipython3",
   "version": "3.9.13"
  }
 },
 "nbformat": 4,
 "nbformat_minor": 2
}
